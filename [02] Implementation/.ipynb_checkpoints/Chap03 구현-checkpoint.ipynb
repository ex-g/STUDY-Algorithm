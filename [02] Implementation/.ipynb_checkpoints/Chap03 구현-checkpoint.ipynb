{
 "cells": [
  {
   "cell_type": "markdown",
   "id": "eeff0c7c-04f9-4ffb-9bea-46bbb5cff989",
   "metadata": {},
   "source": [
    "# Chapter 04. 구현 (Implementation)\n",
    "- 완전 탐색 : 모든 경우의 수를 주저 없이 다 계산하는 해결 방법\n",
    "- 시뮬레이션 : 문제에서 제시한 알고리즘을 한 단계씩 차례대로 직접 수행해야 하는 문제 유형"
   ]
  },
  {
   "cell_type": "markdown",
   "id": "910c07f8-038c-42f6-a2ab-5ac59c887a32",
   "metadata": {},
   "source": [
    "### 1. 상하좌우"
   ]
  },
  {
   "cell_type": "code",
   "execution_count": 22,
   "id": "6c72f22d-b816-45a5-a4ed-506512a20bb2",
   "metadata": {},
   "outputs": [
    {
     "name": "stdin",
     "output_type": "stream",
     "text": [
      " 5\n",
      " R R R U D D\n"
     ]
    },
    {
     "name": "stdout",
     "output_type": "stream",
     "text": [
      "3 4\n"
     ]
    }
   ],
   "source": [
    "# 23:12\n",
    "N = int(input())\n",
    "guide = input().split()\n",
    "now = [1, 1]\n",
    "\n",
    "for i in guide:\n",
    "    if i == \"L\" and now[1] - 1 != 0:\n",
    "        now[1] -= 1\n",
    "    elif i == \"R\" and now[1] + 1 != N:\n",
    "        now[1] += 1\n",
    "    elif i == \"U\" and now[0] - 1 != 0:\n",
    "        now[0] -= 1\n",
    "    elif i == \"D\" and now[0] + 1 != N:\n",
    "        now[0] += 1\n",
    "\n",
    "print(now[0], now[1])"
   ]
  },
  {
   "cell_type": "markdown",
   "id": "bae0ecf1-9945-487b-b27b-650c7ce95429",
   "metadata": {},
   "source": [
    "### 2. 시각 "
   ]
  },
  {
   "cell_type": "code",
   "execution_count": 50,
   "id": "7447bfbf-7fbf-4107-82ba-8ca44c824202",
   "metadata": {},
   "outputs": [
    {
     "name": "stdin",
     "output_type": "stream",
     "text": [
      " 5\n"
     ]
    },
    {
     "name": "stdout",
     "output_type": "stream",
     "text": [
      "11475\n"
     ]
    }
   ],
   "source": [
    "# 20:46\n",
    "N = int(input())\n",
    "sixty = [w for w in range(0, 60) if w // 10 == 3 or w % 10 == 3]\n",
    "# hour = [w for w in range(0, 24) if w // 10 == 3 or w % 10 == 3]\n",
    "\n",
    "if N < 3:\n",
    "    print(((N+1) * ((len(sixty) * 60) + ((60-len(sixty))*len(sixty)))))\n",
    "elif 3 <= N < 13:\n",
    "    print((N * ((len(sixty) * 60) + ((60-len(sixty))*len(sixty)))) + 60*60)\n",
    "elif 13 <= N < 23:\n",
    "    print(((N-1) * ((len(sixty) * 60) + ((60-len(sixty))*len(sixty)))) + 60*60*2)\n",
    "else:\n",
    "    print(((N-2) * ((len(sixty) * 60) + ((60-len(sixty))*len(sixty)))) + 60*60*2)"
   ]
  },
  {
   "cell_type": "markdown",
   "id": "6ff1c38d-3c14-4381-937c-7eeba6be3d76",
   "metadata": {},
   "source": [
    "### 3. 왕실의 나이트"
   ]
  },
  {
   "cell_type": "code",
   "execution_count": 81,
   "id": "f95bc247-aaea-4bca-a63c-ddeeff1af525",
   "metadata": {},
   "outputs": [
    {
     "name": "stdin",
     "output_type": "stream",
     "text": [
      " c2\n"
     ]
    },
    {
     "name": "stdout",
     "output_type": "stream",
     "text": [
      "6\n"
     ]
    }
   ],
   "source": [
    "# 18:29\n",
    "n = input()\n",
    "alpha_dict = {'a':1, 'b':2, 'c':3, 'd':4, 'e':5, 'f':6, 'g':7, 'h':8}\n",
    "a, b = alpha_dict[n[0]], int(n[1])\n",
    "cnt = 0\n",
    "\n",
    "dx = [2, -2]\n",
    "dy = [1, -1]\n",
    "fx = [1, -1]\n",
    "fy = [2, -2]\n",
    "\n",
    "for x in dx:\n",
    "    for y in dy:\n",
    "        nx, ny = a+x, b+y\n",
    "        if nx <= 0 or ny <= 0 or nx >= 8 or ny >= 8:\n",
    "            pass\n",
    "        else:\n",
    "            cnt += 1\n",
    "        \n",
    "for x in fx:\n",
    "    for y in fy:\n",
    "        nx, ny = a+x, b+y\n",
    "        if nx <= 0 or ny <= 0 or nx >= 8 or ny >= 8:\n",
    "            pass\n",
    "        else:\n",
    "            cnt += 1\n",
    "            \n",
    "print(cnt)"
   ]
  },
  {
   "cell_type": "markdown",
   "id": "9c9c92e7-b1ed-41c1-b649-cd4e9ea833d0",
   "metadata": {},
   "source": [
    "### 4. 게임 개발"
   ]
  },
  {
   "cell_type": "code",
   "execution_count": 1,
   "id": "4e072cd8-8863-4881-9478-f51058d84c8a",
   "metadata": {},
   "outputs": [
    {
     "name": "stdin",
     "output_type": "stream",
     "text": [
      " 4 4\n",
      " 1 1 0\n",
      " 1 1 1 1\n",
      " 1 0 0 1\n",
      " 1 1 0 1\n",
      " 1 1 1 1\n"
     ]
    },
    {
     "name": "stdout",
     "output_type": "stream",
     "text": [
      "3\n"
     ]
    }
   ],
   "source": [
    "# 44:03\n",
    "\n",
    "N, M = map(int, input().split())\n",
    "x, y, w = map(int, input().split())\n",
    "place = [list(map(int, input().split())) for _ in range(N)]\n",
    "place[x][y] = 2\n",
    "cnt = 1\n",
    "\n",
    "dx = [1, 0, -1, 0]\n",
    "dy = [0, 1, 0, -1]\n",
    "\n",
    "def now_w(w):\n",
    "  w_lst = [0, 3, 2, 1, 0]\n",
    "  for i in range(4):\n",
    "    if w == w_lst[i]:\n",
    "      return w_lst[i+1]\n",
    "\n",
    "w_cnt = 0\n",
    "while True:\n",
    "  X, Y = x + dx[now_w(w)], y + dy[now_w(w)]\n",
    "  if place[X][Y] != 1 and place[X][Y] != 2 :\n",
    "    w = now_w(w)\n",
    "    x, y = X, Y\n",
    "    place[x][y] += 2\n",
    "    cnt += 1\n",
    "  else:\n",
    "    if w_cnt != 4:\n",
    "      w = now_w(w)\n",
    "      w_cnt += 1\n",
    "    else:\n",
    "      break\n",
    "\n",
    "print(cnt)\n",
    "\n",
    "# 이전으로 돌아가는 거 추가해야 함"
   ]
  },
  {
   "cell_type": "markdown",
   "id": "2370ae7e-53fc-458f-a11d-b2e5011b53b8",
   "metadata": {},
   "source": [
    "## Memo\n",
    "- 알파벳 순서대로 번호를 매기고 싶다면 ord() 함수를 이용하기"
   ]
  },
  {
   "cell_type": "code",
   "execution_count": 90,
   "id": "de5e10bf-daa0-4b26-97f8-5cc2e5a9bc03",
   "metadata": {},
   "outputs": [
    {
     "name": "stdin",
     "output_type": "stream",
     "text": [
      " a b c d e f g h\n"
     ]
    },
    {
     "name": "stdout",
     "output_type": "stream",
     "text": [
      "1 2 3 4 5 6 7 8 "
     ]
    }
   ],
   "source": [
    "alpha = input().split()\n",
    "for i in alpha:\n",
    "    print(int(ord(i)) - int(ord('a'))+1, end = \" \")"
   ]
  }
 ],
 "metadata": {
  "kernelspec": {
   "display_name": "Python 3 (ipykernel)",
   "language": "python",
   "name": "python3"
  },
  "language_info": {
   "codemirror_mode": {
    "name": "ipython",
    "version": 3
   },
   "file_extension": ".py",
   "mimetype": "text/x-python",
   "name": "python",
   "nbconvert_exporter": "python",
   "pygments_lexer": "ipython3",
   "version": "3.8.12"
  }
 },
 "nbformat": 4,
 "nbformat_minor": 5
}
