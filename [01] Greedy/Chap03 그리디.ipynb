{
 "cells": [
  {
   "cell_type": "markdown",
   "id": "e28a6be3-34c7-4bfc-85a7-48c8ec90fff5",
   "metadata": {},
   "source": [
    "# Chapter 03. 그리디 (Greedy)\n",
    "- 현재 상황에서 가장 좋아 보이는 것만을 선택하는 알고리즘(탐욕법)\n",
    "- 문제 출제의 폭이 매우 넓음 > 문제 많이 풀기"
   ]
  },
  {
   "cell_type": "markdown",
   "id": "d86c308a-e467-4a00-a991-9c8736412f28",
   "metadata": {},
   "source": [
    "### 1. 거스름돈"
   ]
  },
  {
   "cell_type": "code",
   "execution_count": 1,
   "id": "e33e60ce-8b11-4e2a-8fb3-fa0c5ef002cc",
   "metadata": {},
   "outputs": [
    {
     "name": "stdin",
     "output_type": "stream",
     "text": [
      " 1260\n"
     ]
    },
    {
     "name": "stdout",
     "output_type": "stream",
     "text": [
      "6\n"
     ]
    }
   ],
   "source": [
    "# 3:16\n",
    "n = int(input())\n",
    "coin_lst = [500, 100, 50, 10]\n",
    "sum = 0\n",
    "\n",
    "for coin in coin_lst:\n",
    "    while True:\n",
    "        n -= coin\n",
    "        sum += 1\n",
    "        if n < coin:\n",
    "            break\n",
    "print(sum)"
   ]
  },
  {
   "cell_type": "markdown",
   "id": "f0e537d6-d12a-49c4-92fa-d4375d3e2fc7",
   "metadata": {},
   "source": [
    "### 2. 큰 수의 법칙"
   ]
  },
  {
   "cell_type": "code",
   "execution_count": 3,
   "id": "eb0b67f4-8ecd-4be0-85bd-dd0aeea2fd4a",
   "metadata": {},
   "outputs": [
    {
     "name": "stdin",
     "output_type": "stream",
     "text": [
      " 5 8 3\n",
      " 2 4 5 4 6\n"
     ]
    },
    {
     "name": "stdout",
     "output_type": "stream",
     "text": [
      "46\n"
     ]
    }
   ],
   "source": [
    "# 23:08\n",
    "# 10:56\n",
    "N, M, K = map(int, input().split())\n",
    "num_lst = list(map(int, input().split()))\n",
    "sum = 0\n",
    "\n",
    "num_lst.sort()\n",
    "a, b = num_lst[-1], num_lst[-2]\n",
    "\n",
    "num_cycle = a * K + b\n",
    "\n",
    "if M == 0:\n",
    "    print(0)\n",
    "else:\n",
    "    if M % (K + 1) == 0:\n",
    "        print(int(num_cycle * M / (K+1)))\n",
    "    else:\n",
    "        print(int(num_cycle * (M // (K+1)) + a * (M % (K+1))))"
   ]
  },
  {
   "cell_type": "markdown",
   "id": "45b0eca0-2e33-45c9-b8fd-dbf704e4ef7c",
   "metadata": {},
   "source": [
    "### 3.숫자 카드 게임"
   ]
  },
  {
   "cell_type": "code",
   "execution_count": 4,
   "id": "e8693bda-1bf7-4916-b730-aa19a2bc6d14",
   "metadata": {},
   "outputs": [
    {
     "name": "stdin",
     "output_type": "stream",
     "text": [
      " 3 3\n",
      " 3 1 2\n",
      " 4 1 4\n",
      " 2 2 2\n"
     ]
    },
    {
     "name": "stdout",
     "output_type": "stream",
     "text": [
      "2\n"
     ]
    }
   ],
   "source": [
    "# 7:52\n",
    "N, M = map(int, input().split())\n",
    "cards = []\n",
    "\n",
    "for i in range(N):\n",
    "    cards.append(min(list(map(int, input().split()))))\n",
    "\n",
    "print(max(cards))"
   ]
  },
  {
   "cell_type": "markdown",
   "id": "665f92c1-9015-48bd-b7c1-f0dd129a7029",
   "metadata": {},
   "source": [
    "### 4. 1이 될 때까지"
   ]
  },
  {
   "cell_type": "code",
   "execution_count": 5,
   "id": "b776102d-4068-4407-9ff2-66b275937ce3",
   "metadata": {},
   "outputs": [
    {
     "name": "stdin",
     "output_type": "stream",
     "text": [
      " 25 5\n"
     ]
    },
    {
     "name": "stdout",
     "output_type": "stream",
     "text": [
      "2\n"
     ]
    }
   ],
   "source": [
    "# 1:53\n",
    "N, K = map(int, input().split())\n",
    "cnt = 0\n",
    "\n",
    "while True:\n",
    "    if N == 1:\n",
    "        break\n",
    "    if N % K == 0:\n",
    "        N /= K\n",
    "        cnt += 1\n",
    "    else:\n",
    "        N -= 1\n",
    "        cnt += 1\n",
    "\n",
    "print(cnt)"
   ]
  }
 ],
 "metadata": {
  "kernelspec": {
   "display_name": "Python 3 (ipykernel)",
   "language": "python",
   "name": "python3"
  },
  "language_info": {
   "codemirror_mode": {
    "name": "ipython",
    "version": 3
   },
   "file_extension": ".py",
   "mimetype": "text/x-python",
   "name": "python",
   "nbconvert_exporter": "python",
   "pygments_lexer": "ipython3",
   "version": "3.8.12"
  }
 },
 "nbformat": 4,
 "nbformat_minor": 5
}
