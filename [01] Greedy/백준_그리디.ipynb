{
 "cells": [
  {
   "cell_type": "markdown",
   "id": "4da88ee8-b816-419f-b3c6-969fbfed53cc",
   "metadata": {},
   "source": [
    "- 그리디 알고리즘 greedy\n",
    "https://solved.ac/problems/tags/greedy?sort=level&direction=asc&page=1"
   ]
  },
  {
   "cell_type": "markdown",
   "id": "c3b78ced-902d-4aad-ac74-c8ec2db232f6",
   "metadata": {},
   "source": [
    "### 10162 | 전자레인지"
   ]
  },
  {
   "cell_type": "code",
   "execution_count": 9,
   "id": "675f315e-3336-4a57-bb6c-07bdf5bb33fc",
   "metadata": {},
   "outputs": [
    {
     "name": "stdin",
     "output_type": "stream",
     "text": [
      " 100\n"
     ]
    },
    {
     "name": "stdout",
     "output_type": "stream",
     "text": [
      "0 1 4 "
     ]
    }
   ],
   "source": [
    "# 220705(화)\n",
    "T = int(input())\n",
    "time_lst = [300, 60, 10]\n",
    "btn_lst = [0, 0, 0]\n",
    "\n",
    "\n",
    "for i in range(3):\n",
    "    while True:\n",
    "        if T <= 0:\n",
    "            break\n",
    "        if T >= time_lst[i]:\n",
    "            T -= time_lst[i]\n",
    "            btn_lst[i] +=1\n",
    "        else:\n",
    "            break\n",
    "            \n",
    "if T == 0:\n",
    "    for btn in btn_lst:\n",
    "        print(btn, end = \" \")\n",
    "else:\n",
    "    print(-1)"
   ]
  },
  {
   "cell_type": "markdown",
   "id": "53d7a47c-3a95-40d2-b3c0-93c37a567e00",
   "metadata": {},
   "source": [
    "### 2720 | 세탁소 사장 동혁"
   ]
  },
  {
   "cell_type": "code",
   "execution_count": 12,
   "id": "5ceac673-9cd4-4e64-b5ef-66cfe1d6c69e",
   "metadata": {},
   "outputs": [
    {
     "name": "stdin",
     "output_type": "stream",
     "text": [
      " 3\n",
      " 124\n"
     ]
    },
    {
     "name": "stdout",
     "output_type": "stream",
     "text": [
      "4 2 0 4 "
     ]
    },
    {
     "name": "stdin",
     "output_type": "stream",
     "text": [
      " 25\n"
     ]
    },
    {
     "name": "stdout",
     "output_type": "stream",
     "text": [
      "1 0 0 0 "
     ]
    },
    {
     "name": "stdin",
     "output_type": "stream",
     "text": [
      " 194\n"
     ]
    },
    {
     "name": "stdout",
     "output_type": "stream",
     "text": [
      "7 1 1 4 "
     ]
    }
   ],
   "source": [
    "# 220706(수)\n",
    "T = int(input())\n",
    "for _ in range(T):\n",
    "    coin_lst = [25, 10, 5, 1]\n",
    "    c = int(input())\n",
    "    answer = [0] * 4\n",
    "\n",
    "    for i in range(len(coin_lst)):\n",
    "        while c >= coin_lst[i]:\n",
    "            c -= coin_lst[i]\n",
    "            answer[i] += 1\n",
    "\n",
    "    for i in answer:\n",
    "        print(i, end = \" \")"
   ]
  },
  {
   "cell_type": "markdown",
   "id": "2a53ae41-bfd9-4cc4-8447-1456c5b7761e",
   "metadata": {},
   "source": [
    "### 3578 | Holes"
   ]
  },
  {
   "cell_type": "code",
   "execution_count": 13,
   "id": "dbc777af-ce27-402e-a58d-887af4ef4f3c",
   "metadata": {},
   "outputs": [
    {
     "name": "stdin",
     "output_type": "stream",
     "text": [
      " 70\n"
     ]
    },
    {
     "name": "stdout",
     "output_type": "stream",
     "text": [
      "88888888888888888888888888888888888"
     ]
    }
   ],
   "source": [
    "# 220708(금)\n",
    "h = int(input())\n",
    "if h == 0: print(1);\n",
    "elif h == 1:print(0);\n",
    "else:\n",
    "    if h % 2 == 0:\n",
    "        for i in range(h//2):\n",
    "            print(8, end=\"\")\n",
    "    else:\n",
    "        print(4, end=\"\")\n",
    "        for i in range(h//2):\n",
    "            print(8, end=\"\")"
   ]
  },
  {
   "cell_type": "markdown",
   "id": "fb64b5e7-79b3-4033-8071-1c54726ce99f",
   "metadata": {},
   "source": [
    "### 2864 | 5와 6의 차이"
   ]
  },
  {
   "cell_type": "code",
   "execution_count": 6,
   "id": "7400c614-ac0f-4f96-bd6e-af4a38cbdaff",
   "metadata": {},
   "outputs": [
    {
     "name": "stdin",
     "output_type": "stream",
     "text": [
      " 16796 58786\n"
     ]
    },
    {
     "name": "stdout",
     "output_type": "stream",
     "text": [
      "74580 85582\n"
     ]
    }
   ],
   "source": [
    "# 220709(토)\n",
    "def min(A, B):\n",
    "    result_A = []\n",
    "    result_B = []\n",
    "    for i in A:\n",
    "        result_A.append(i.replace('6', '5'))\n",
    "    for i in B:\n",
    "        result_B.append(i.replace('6', '5'))\n",
    "    return int(''.join(result_A)) + int(''.join(result_B))  \n",
    "    \n",
    "def max(A, B):\n",
    "    result_A = []\n",
    "    result_B = []\n",
    "    for i in A:\n",
    "        result_A.append(i.replace('5', '6'))\n",
    "    for i in B:\n",
    "        result_B.append(i.replace('5', '6'))\n",
    "    return int(''.join(result_A)) + int(''.join(result_B))\n",
    "\n",
    "A, B = input().split()\n",
    "A = list(A)\n",
    "B = list(B)   \n",
    "print(min(A, B), max(A, B))"
   ]
  },
  {
   "cell_type": "markdown",
   "id": "ec1776a7-0acb-43db-9fba-dc64de98feaf",
   "metadata": {},
   "source": [
    "### 2810 | 컵홀더"
   ]
  },
  {
   "cell_type": "code",
   "execution_count": 6,
   "id": "ce5db8e5-e2ae-4f4d-b223-93019c67cc65",
   "metadata": {},
   "outputs": [
    {
     "name": "stdin",
     "output_type": "stream",
     "text": [
      " 9\n",
      " SLLLLSSLL\n"
     ]
    },
    {
     "name": "stdout",
     "output_type": "stream",
     "text": [
      "7\n"
     ]
    }
   ],
   "source": [
    "# 220710(일)\n",
    "N = int(input())\n",
    "N_lst = list(input())\n",
    "cnt = [0, 0]\n",
    "\n",
    "for i in N_lst:\n",
    "    if i == \"S\":\n",
    "        cnt[0] += 1\n",
    "    else:\n",
    "        cnt[1] += 1\n",
    "        \n",
    "final = int(cnt[0] + cnt[1]/2 + 1)\n",
    "\n",
    "if N <= final:\n",
    "    print(N)\n",
    "else:\n",
    "    print(final)"
   ]
  }
 ],
 "metadata": {
  "kernelspec": {
   "display_name": "Python 3 (ipykernel)",
   "language": "python",
   "name": "python3"
  },
  "language_info": {
   "codemirror_mode": {
    "name": "ipython",
    "version": 3
   },
   "file_extension": ".py",
   "mimetype": "text/x-python",
   "name": "python",
   "nbconvert_exporter": "python",
   "pygments_lexer": "ipython3",
   "version": "3.8.12"
  }
 },
 "nbformat": 4,
 "nbformat_minor": 5
}
