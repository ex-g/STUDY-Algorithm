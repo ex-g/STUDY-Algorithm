{
 "cells": [
  {
   "cell_type": "markdown",
   "id": "4da88ee8-b816-419f-b3c6-969fbfed53cc",
   "metadata": {},
   "source": [
    "- 그리디 알고리즘 greedy\n",
    "https://solved.ac/problems/tags/greedy?sort=level&direction=asc&page=1"
   ]
  },
  {
   "cell_type": "markdown",
   "id": "c3b78ced-902d-4aad-ac74-c8ec2db232f6",
   "metadata": {},
   "source": [
    "### 10162 | 전자레인지"
   ]
  },
  {
   "cell_type": "code",
   "execution_count": 9,
   "id": "675f315e-3336-4a57-bb6c-07bdf5bb33fc",
   "metadata": {},
   "outputs": [
    {
     "name": "stdin",
     "output_type": "stream",
     "text": [
      " 100\n"
     ]
    },
    {
     "name": "stdout",
     "output_type": "stream",
     "text": [
      "0 1 4 "
     ]
    }
   ],
   "source": [
    "# 220705(화)\n",
    "T = int(input())\n",
    "time_lst = [300, 60, 10]\n",
    "btn_lst = [0, 0, 0]\n",
    "\n",
    "\n",
    "for i in range(3):\n",
    "    while True:\n",
    "        if T <= 0:\n",
    "            break\n",
    "        if T >= time_lst[i]:\n",
    "            T -= time_lst[i]\n",
    "            btn_lst[i] +=1\n",
    "        else:\n",
    "            break\n",
    "            \n",
    "if T == 0:\n",
    "    for btn in btn_lst:\n",
    "        print(btn, end = \" \")\n",
    "else:\n",
    "    print(-1)"
   ]
  },
  {
   "cell_type": "markdown",
   "id": "53d7a47c-3a95-40d2-b3c0-93c37a567e00",
   "metadata": {},
   "source": [
    "### 2720 | 세탁소 사장 동혁"
   ]
  },
  {
   "cell_type": "code",
   "execution_count": 12,
   "id": "5ceac673-9cd4-4e64-b5ef-66cfe1d6c69e",
   "metadata": {},
   "outputs": [
    {
     "name": "stdin",
     "output_type": "stream",
     "text": [
      " 3\n",
      " 124\n"
     ]
    },
    {
     "name": "stdout",
     "output_type": "stream",
     "text": [
      "4 2 0 4 "
     ]
    },
    {
     "name": "stdin",
     "output_type": "stream",
     "text": [
      " 25\n"
     ]
    },
    {
     "name": "stdout",
     "output_type": "stream",
     "text": [
      "1 0 0 0 "
     ]
    },
    {
     "name": "stdin",
     "output_type": "stream",
     "text": [
      " 194\n"
     ]
    },
    {
     "name": "stdout",
     "output_type": "stream",
     "text": [
      "7 1 1 4 "
     ]
    }
   ],
   "source": [
    "# 220706(수)\n",
    "T = int(input())\n",
    "for _ in range(T):\n",
    "    coin_lst = [25, 10, 5, 1]\n",
    "    c = int(input())\n",
    "    answer = [0] * 4\n",
    "\n",
    "    for i in range(len(coin_lst)):\n",
    "        while c >= coin_lst[i]:\n",
    "            c -= coin_lst[i]\n",
    "            answer[i] += 1\n",
    "\n",
    "    for i in answer:\n",
    "        print(i, end = \" \")"
   ]
  },
  {
   "cell_type": "code",
   "execution_count": null,
   "id": "007110a9-195d-4ac7-9725-68a463ecf93e",
   "metadata": {},
   "outputs": [],
   "source": []
  }
 ],
 "metadata": {
  "kernelspec": {
   "display_name": "Python 3 (ipykernel)",
   "language": "python",
   "name": "python3"
  },
  "language_info": {
   "codemirror_mode": {
    "name": "ipython",
    "version": 3
   },
   "file_extension": ".py",
   "mimetype": "text/x-python",
   "name": "python",
   "nbconvert_exporter": "python",
   "pygments_lexer": "ipython3",
   "version": "3.8.12"
  }
 },
 "nbformat": 4,
 "nbformat_minor": 5
}
