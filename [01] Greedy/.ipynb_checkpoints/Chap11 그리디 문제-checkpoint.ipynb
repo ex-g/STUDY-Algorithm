{
 "cells": [
  {
   "cell_type": "markdown",
   "id": "ff61f3f8-6ba2-4ff0-9ae0-4ac92aa94510",
   "metadata": {},
   "source": [
    "# Chapter 11. 그리디 (Greedy)"
   ]
  },
  {
   "cell_type": "markdown",
   "id": "40bc8172-d38d-4496-b694-261c6c92677c",
   "metadata": {},
   "source": [
    "## Q01. 모험가 길드.py"
   ]
  },
  {
   "cell_type": "code",
   "execution_count": 2,
   "id": "9d9bd7db-e9f1-4e44-a8bd-4b9bb93a474e",
   "metadata": {},
   "outputs": [
    {
     "name": "stdin",
     "output_type": "stream",
     "text": [
      " 5\n",
      " 2 3 1 2 2\n"
     ]
    },
    {
     "name": "stdout",
     "output_type": "stream",
     "text": [
      "2\n"
     ]
    }
   ],
   "source": [
    "# 36:32\n",
    "# N = int(input())\n",
    "# datas = list(map(int, input().split()))\n",
    "# datas.sort()\n",
    "# guild = 0\n",
    "# rested = 0\n",
    "\n",
    "# for data in datas:\n",
    "#     same_data = [w for w in datas if w == data]\n",
    "#     datas = [w for w in datas if w != data]\n",
    "#     guild += (len(same_data) + rested) // data\n",
    "#     rested = 0\n",
    "#     rested += (len(same_data) % data)\n",
    "    \n",
    "# print(guild)\n",
    "\n",
    "# 3:43\n",
    "N = int(input())\n",
    "mem_lst = list(map(int, input().split()))\n",
    "mem_lst.sort()\n",
    "cnt = 0\n",
    "waiting = 0\n",
    "\n",
    "for mem in mem_lst:\n",
    "    waiting += 1\n",
    "    if waiting >= mem:\n",
    "        waiting -= mem\n",
    "        cnt += 1\n",
    "\n",
    "print(cnt)"
   ]
  },
  {
   "cell_type": "markdown",
   "id": "0c3f10b7-7da1-494d-aad7-2a9fd05ec38f",
   "metadata": {},
   "source": [
    "## Q02. 곱하기 혹은 더하기"
   ]
  },
  {
   "cell_type": "code",
   "execution_count": 3,
   "id": "8ebb6f95-f069-4166-90c8-e892c133a26f",
   "metadata": {},
   "outputs": [
    {
     "name": "stdin",
     "output_type": "stream",
     "text": [
      " 02984\n"
     ]
    },
    {
     "name": "stdout",
     "output_type": "stream",
     "text": [
      "576\n"
     ]
    }
   ],
   "source": [
    "# 8:19\n",
    "str_lst = [w for w in input()]\n",
    "result = 0\n",
    "\n",
    "for data in str_lst:\n",
    "    data = int(data)\n",
    "    if data <= 1 or result <= 1:\n",
    "        result += data\n",
    "    else:\n",
    "        result *= data\n",
    "\n",
    "print(result)"
   ]
  },
  {
   "cell_type": "markdown",
   "id": "1c460cc8-3754-4d63-98ed-f4d1d8146efa",
   "metadata": {},
   "source": [
    "## Q03. 문자열 뒤집기"
   ]
  },
  {
   "cell_type": "code",
   "execution_count": 4,
   "id": "c1eb7d82-0ec6-498c-b939-35ed8a8be627",
   "metadata": {},
   "outputs": [
    {
     "name": "stdin",
     "output_type": "stream",
     "text": [
      " 0001100\n"
     ]
    },
    {
     "name": "stdout",
     "output_type": "stream",
     "text": [
      "1\n"
     ]
    }
   ],
   "source": [
    "# 15:30\n",
    "str_lst = [w for w in input()]\n",
    "prev = int(str_lst[0])\n",
    "cnt = [0, 0]\n",
    "cnt[prev] += 1\n",
    "\n",
    "for data in str_lst:\n",
    "    data = int(data)\n",
    "    if data != prev:\n",
    "        cnt[data] += 1\n",
    "    prev = data\n",
    "\n",
    "print(min(cnt))"
   ]
  },
  {
   "cell_type": "markdown",
   "id": "2ed597e1-0d71-4811-afe6-82051200afc6",
   "metadata": {},
   "source": [
    "## Q04. 만들 수 없는 금액"
   ]
  },
  {
   "cell_type": "code",
   "execution_count": 6,
   "id": "6af0ecb1-2f9a-4dd3-916e-0e4267e56163",
   "metadata": {},
   "outputs": [
    {
     "name": "stdin",
     "output_type": "stream",
     "text": [
      " 5\n",
      " 3 2 1 1 9\n"
     ]
    },
    {
     "name": "stdout",
     "output_type": "stream",
     "text": [
      "8\n"
     ]
    }
   ],
   "source": [
    "# 18:40\n",
    "from itertools import combinations\n",
    "\n",
    "N = int(input())\n",
    "num_lst = list(map(int, input().split()))\n",
    "\n",
    "sum_lst = []\n",
    "for i in range(1, N+1):\n",
    "    for j in combinations(num_lst, i):\n",
    "        sum_lst.append(sum(j))\n",
    "\n",
    "result_lst = list(set(sum_lst))\n",
    "result_lst.sort()\n",
    "\n",
    "start = 0\n",
    "for data in result_lst:\n",
    "    if data - start != 1:\n",
    "        result = data\n",
    "        break\n",
    "    start += 1\n",
    "\n",
    "print(result-1)"
   ]
  },
  {
   "cell_type": "markdown",
   "id": "bd3e28e3-eae7-429e-88f8-8540f0ddd82c",
   "metadata": {},
   "source": [
    "## Q05. 볼링공 고르기"
   ]
  },
  {
   "cell_type": "code",
   "execution_count": 7,
   "id": "53429ec3-5537-41fe-a023-d6e17790b25c",
   "metadata": {},
   "outputs": [
    {
     "name": "stdin",
     "output_type": "stream",
     "text": [
      " 5 3\n",
      " 1 3 2 3 2\n"
     ]
    },
    {
     "name": "stdout",
     "output_type": "stream",
     "text": [
      "8\n"
     ]
    }
   ],
   "source": [
    "# 6:34\n",
    "from itertools import combinations\n",
    "\n",
    "N, M = map(int, input().split())\n",
    "kg_lst = list(map(int, input().split()))\n",
    "\n",
    "cnt = 0\n",
    "\n",
    "for i in combinations(kg_lst, 2):\n",
    "    if i[0] != i[1]:\n",
    "        cnt +=1\n",
    "\n",
    "print(cnt)"
   ]
  },
  {
   "cell_type": "markdown",
   "id": "31a52de4-3cad-406d-9581-6d4dbe2235ef",
   "metadata": {},
   "source": [
    "## Q06. 무지의 먹방 라이브"
   ]
  },
  {
   "cell_type": "code",
   "execution_count": 9,
   "id": "29687b51-3ba1-47ab-96fd-bddef13a0630",
   "metadata": {},
   "outputs": [
    {
     "name": "stdout",
     "output_type": "stream",
     "text": [
      "1\n"
     ]
    }
   ],
   "source": [
    "# 25:13\n",
    "def solution(food_times, k):\n",
    "    result = 0\n",
    "    now = 0\n",
    "    while True:\n",
    "        if any(i != 0 for i in food_times):\n",
    "            for i in range(len(food_times)):\n",
    "                if now == k:\n",
    "                    result = i+1\n",
    "                if food_times[i] != 0:\n",
    "                    food_times[i] -= 1\n",
    "                    now += 1\n",
    "        else:\n",
    "            break\n",
    "\n",
    "    return result\n",
    "\n",
    "food_times = [3, 1, 2]\n",
    "k = 5\n",
    "\n",
    "print(solution(food_times, k))"
   ]
  }
 ],
 "metadata": {
  "kernelspec": {
   "display_name": "Python 3 (ipykernel)",
   "language": "python",
   "name": "python3"
  },
  "language_info": {
   "codemirror_mode": {
    "name": "ipython",
    "version": 3
   },
   "file_extension": ".py",
   "mimetype": "text/x-python",
   "name": "python",
   "nbconvert_exporter": "python",
   "pygments_lexer": "ipython3",
   "version": "3.8.12"
  }
 },
 "nbformat": 4,
 "nbformat_minor": 5
}
